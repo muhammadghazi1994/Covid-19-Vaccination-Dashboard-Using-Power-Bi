{
 "cells": [
  {
   "cell_type": "code",
   "execution_count": 6,
   "metadata": {},
   "outputs": [
    {
     "data": {
      "text/plain": [
       "(21693, 12)"
      ]
     },
     "execution_count": 6,
     "metadata": {},
     "output_type": "execute_result"
    }
   ],
   "source": [
    "import pandas as pd\n",
    "import numpy as np\n",
    "import seaborn as sns\n",
    "import matplotlib.pyplot as plt\n",
    "%matplotlib inline\n",
    "\n",
    "df = pd.read_csv('vaccinations.csv', na_values = ['n/a', '\\s+', \"N/A\"])\n",
    "df.shape"
   ]
  },
  {
   "cell_type": "code",
   "execution_count": 7,
   "metadata": {},
   "outputs": [
    {
     "name": "stdout",
     "output_type": "stream",
     "text": [
      "0\n"
     ]
    }
   ],
   "source": [
    "print(df.duplicated().sum())"
   ]
  },
  {
   "cell_type": "code",
   "execution_count": 3,
   "metadata": {},
   "outputs": [
    {
     "data": {
      "text/html": [
       "<div>\n",
       "<style scoped>\n",
       "    .dataframe tbody tr th:only-of-type {\n",
       "        vertical-align: middle;\n",
       "    }\n",
       "\n",
       "    .dataframe tbody tr th {\n",
       "        vertical-align: top;\n",
       "    }\n",
       "\n",
       "    .dataframe thead th {\n",
       "        text-align: right;\n",
       "    }\n",
       "</style>\n",
       "<table border=\"1\" class=\"dataframe\">\n",
       "  <thead>\n",
       "    <tr style=\"text-align: right;\">\n",
       "      <th></th>\n",
       "      <th>location</th>\n",
       "      <th>iso_code</th>\n",
       "      <th>date</th>\n",
       "      <th>total_vaccinations</th>\n",
       "      <th>people_vaccinated</th>\n",
       "      <th>people_fully_vaccinated</th>\n",
       "      <th>daily_vaccinations_raw</th>\n",
       "      <th>daily_vaccinations</th>\n",
       "      <th>total_vaccinations_per_hundred</th>\n",
       "      <th>people_vaccinated_per_hundred</th>\n",
       "      <th>people_fully_vaccinated_per_hundred</th>\n",
       "      <th>daily_vaccinations_per_million</th>\n",
       "    </tr>\n",
       "  </thead>\n",
       "  <tbody>\n",
       "    <tr>\n",
       "      <th>0</th>\n",
       "      <td>Afghanistan</td>\n",
       "      <td>AFG</td>\n",
       "      <td>2021-02-22</td>\n",
       "      <td>0.0</td>\n",
       "      <td>0.0</td>\n",
       "      <td>NaN</td>\n",
       "      <td>NaN</td>\n",
       "      <td>NaN</td>\n",
       "      <td>0.0</td>\n",
       "      <td>0.0</td>\n",
       "      <td>NaN</td>\n",
       "      <td>NaN</td>\n",
       "    </tr>\n",
       "    <tr>\n",
       "      <th>1</th>\n",
       "      <td>Afghanistan</td>\n",
       "      <td>AFG</td>\n",
       "      <td>2021-02-23</td>\n",
       "      <td>NaN</td>\n",
       "      <td>NaN</td>\n",
       "      <td>NaN</td>\n",
       "      <td>NaN</td>\n",
       "      <td>1367.0</td>\n",
       "      <td>NaN</td>\n",
       "      <td>NaN</td>\n",
       "      <td>NaN</td>\n",
       "      <td>35.0</td>\n",
       "    </tr>\n",
       "    <tr>\n",
       "      <th>2</th>\n",
       "      <td>Afghanistan</td>\n",
       "      <td>AFG</td>\n",
       "      <td>2021-02-24</td>\n",
       "      <td>NaN</td>\n",
       "      <td>NaN</td>\n",
       "      <td>NaN</td>\n",
       "      <td>NaN</td>\n",
       "      <td>1367.0</td>\n",
       "      <td>NaN</td>\n",
       "      <td>NaN</td>\n",
       "      <td>NaN</td>\n",
       "      <td>35.0</td>\n",
       "    </tr>\n",
       "    <tr>\n",
       "      <th>3</th>\n",
       "      <td>Afghanistan</td>\n",
       "      <td>AFG</td>\n",
       "      <td>2021-02-25</td>\n",
       "      <td>NaN</td>\n",
       "      <td>NaN</td>\n",
       "      <td>NaN</td>\n",
       "      <td>NaN</td>\n",
       "      <td>1367.0</td>\n",
       "      <td>NaN</td>\n",
       "      <td>NaN</td>\n",
       "      <td>NaN</td>\n",
       "      <td>35.0</td>\n",
       "    </tr>\n",
       "    <tr>\n",
       "      <th>4</th>\n",
       "      <td>Afghanistan</td>\n",
       "      <td>AFG</td>\n",
       "      <td>2021-02-26</td>\n",
       "      <td>NaN</td>\n",
       "      <td>NaN</td>\n",
       "      <td>NaN</td>\n",
       "      <td>NaN</td>\n",
       "      <td>1367.0</td>\n",
       "      <td>NaN</td>\n",
       "      <td>NaN</td>\n",
       "      <td>NaN</td>\n",
       "      <td>35.0</td>\n",
       "    </tr>\n",
       "  </tbody>\n",
       "</table>\n",
       "</div>"
      ],
      "text/plain": [
       "      location iso_code        date  total_vaccinations  people_vaccinated  \\\n",
       "0  Afghanistan      AFG  2021-02-22                 0.0                0.0   \n",
       "1  Afghanistan      AFG  2021-02-23                 NaN                NaN   \n",
       "2  Afghanistan      AFG  2021-02-24                 NaN                NaN   \n",
       "3  Afghanistan      AFG  2021-02-25                 NaN                NaN   \n",
       "4  Afghanistan      AFG  2021-02-26                 NaN                NaN   \n",
       "\n",
       "   people_fully_vaccinated  daily_vaccinations_raw  daily_vaccinations  \\\n",
       "0                      NaN                     NaN                 NaN   \n",
       "1                      NaN                     NaN              1367.0   \n",
       "2                      NaN                     NaN              1367.0   \n",
       "3                      NaN                     NaN              1367.0   \n",
       "4                      NaN                     NaN              1367.0   \n",
       "\n",
       "   total_vaccinations_per_hundred  people_vaccinated_per_hundred  \\\n",
       "0                             0.0                            0.0   \n",
       "1                             NaN                            NaN   \n",
       "2                             NaN                            NaN   \n",
       "3                             NaN                            NaN   \n",
       "4                             NaN                            NaN   \n",
       "\n",
       "   people_fully_vaccinated_per_hundred  daily_vaccinations_per_million  \n",
       "0                                  NaN                             NaN  \n",
       "1                                  NaN                            35.0  \n",
       "2                                  NaN                            35.0  \n",
       "3                                  NaN                            35.0  \n",
       "4                                  NaN                            35.0  "
      ]
     },
     "execution_count": 3,
     "metadata": {},
     "output_type": "execute_result"
    }
   ],
   "source": [
    "df.head()"
   ]
  },
  {
   "cell_type": "code",
   "execution_count": 8,
   "metadata": {},
   "outputs": [
    {
     "name": "stdout",
     "output_type": "stream",
     "text": [
      "9\n",
      "13033\n"
     ]
    }
   ],
   "source": [
    "print(df.isnull().any().sum())                            # rechecking number of column having missing values \n",
    "print(df.isnull().any(axis = 1).sum())                     # rechecking number of rows having missing values"
   ]
  },
  {
   "cell_type": "code",
   "execution_count": 17,
   "metadata": {},
   "outputs": [
    {
     "data": {
      "text/plain": [
       "Index([], dtype='object')"
      ]
     },
     "execution_count": 17,
     "metadata": {},
     "output_type": "execute_result"
    }
   ],
   "source": [
    "cols = df.columns[df.isnull().mean()>0.60]       #displaying columns with more than 70% missing values\n",
    "cols\n",
    "\n",
    "#df = df.drop(cols, axis=1)  "
   ]
  },
  {
   "cell_type": "code",
   "execution_count": 29,
   "metadata": {},
   "outputs": [],
   "source": [
    "\n",
    "df.dropna(subset = [\"daily_vaccinations\"], inplace=True)\n",
    "df.dropna(subset = [\"total_vaccinations\"], inplace=True)\n"
   ]
  },
  {
   "cell_type": "code",
   "execution_count": 40,
   "metadata": {},
   "outputs": [],
   "source": [
    "cols = df.columns[df.isnull().mean()>0.01]       #displaying columns with more than 70% missing values\n",
    "df = df.drop(cols, axis=1)"
   ]
  },
  {
   "cell_type": "code",
   "execution_count": 41,
   "metadata": {},
   "outputs": [
    {
     "data": {
      "text/html": [
       "<div>\n",
       "<style scoped>\n",
       "    .dataframe tbody tr th:only-of-type {\n",
       "        vertical-align: middle;\n",
       "    }\n",
       "\n",
       "    .dataframe tbody tr th {\n",
       "        vertical-align: top;\n",
       "    }\n",
       "\n",
       "    .dataframe thead th {\n",
       "        text-align: right;\n",
       "    }\n",
       "</style>\n",
       "<table border=\"1\" class=\"dataframe\">\n",
       "  <thead>\n",
       "    <tr style=\"text-align: right;\">\n",
       "      <th></th>\n",
       "      <th>location</th>\n",
       "      <th>iso_code</th>\n",
       "      <th>date</th>\n",
       "      <th>total_vaccinations</th>\n",
       "      <th>daily_vaccinations</th>\n",
       "      <th>total_vaccinations_per_hundred</th>\n",
       "      <th>daily_vaccinations_per_million</th>\n",
       "    </tr>\n",
       "  </thead>\n",
       "  <tbody>\n",
       "    <tr>\n",
       "      <th>6</th>\n",
       "      <td>Afghanistan</td>\n",
       "      <td>AFG</td>\n",
       "      <td>2021-02-28</td>\n",
       "      <td>8200.0</td>\n",
       "      <td>1367.0</td>\n",
       "      <td>0.02</td>\n",
       "      <td>35.0</td>\n",
       "    </tr>\n",
       "    <tr>\n",
       "      <th>22</th>\n",
       "      <td>Afghanistan</td>\n",
       "      <td>AFG</td>\n",
       "      <td>2021-03-16</td>\n",
       "      <td>54000.0</td>\n",
       "      <td>2862.0</td>\n",
       "      <td>0.14</td>\n",
       "      <td>74.0</td>\n",
       "    </tr>\n",
       "    <tr>\n",
       "      <th>44</th>\n",
       "      <td>Afghanistan</td>\n",
       "      <td>AFG</td>\n",
       "      <td>2021-04-07</td>\n",
       "      <td>120000.0</td>\n",
       "      <td>3000.0</td>\n",
       "      <td>0.31</td>\n",
       "      <td>77.0</td>\n",
       "    </tr>\n",
       "    <tr>\n",
       "      <th>59</th>\n",
       "      <td>Afghanistan</td>\n",
       "      <td>AFG</td>\n",
       "      <td>2021-04-22</td>\n",
       "      <td>240000.0</td>\n",
       "      <td>8000.0</td>\n",
       "      <td>0.62</td>\n",
       "      <td>206.0</td>\n",
       "    </tr>\n",
       "    <tr>\n",
       "      <th>78</th>\n",
       "      <td>Afghanistan</td>\n",
       "      <td>AFG</td>\n",
       "      <td>2021-05-11</td>\n",
       "      <td>504502.0</td>\n",
       "      <td>13921.0</td>\n",
       "      <td>1.30</td>\n",
       "      <td>358.0</td>\n",
       "    </tr>\n",
       "  </tbody>\n",
       "</table>\n",
       "</div>"
      ],
      "text/plain": [
       "       location iso_code        date  total_vaccinations  daily_vaccinations  \\\n",
       "6   Afghanistan      AFG  2021-02-28              8200.0              1367.0   \n",
       "22  Afghanistan      AFG  2021-03-16             54000.0              2862.0   \n",
       "44  Afghanistan      AFG  2021-04-07            120000.0              3000.0   \n",
       "59  Afghanistan      AFG  2021-04-22            240000.0              8000.0   \n",
       "78  Afghanistan      AFG  2021-05-11            504502.0             13921.0   \n",
       "\n",
       "    total_vaccinations_per_hundred  daily_vaccinations_per_million  \n",
       "6                             0.02                            35.0  \n",
       "22                            0.14                            74.0  \n",
       "44                            0.31                            77.0  \n",
       "59                            0.62                           206.0  \n",
       "78                            1.30                           358.0  "
      ]
     },
     "execution_count": 41,
     "metadata": {},
     "output_type": "execute_result"
    }
   ],
   "source": [
    "df.head()"
   ]
  },
  {
   "cell_type": "code",
   "execution_count": 42,
   "metadata": {},
   "outputs": [
    {
     "data": {
      "text/plain": [
       "location                          0\n",
       "iso_code                          0\n",
       "date                              0\n",
       "total_vaccinations                0\n",
       "daily_vaccinations                0\n",
       "total_vaccinations_per_hundred    0\n",
       "daily_vaccinations_per_million    0\n",
       "dtype: int64"
      ]
     },
     "execution_count": 42,
     "metadata": {},
     "output_type": "execute_result"
    }
   ],
   "source": [
    "df.isna().sum()           #displaying columns with missing values"
   ]
  },
  {
   "cell_type": "code",
   "execution_count": 43,
   "metadata": {},
   "outputs": [
    {
     "name": "stdout",
     "output_type": "stream",
     "text": [
      "location-0%\n",
      "iso_code-0%\n",
      "date-0%\n",
      "total_vaccinations-0%\n",
      "daily_vaccinations-0%\n",
      "total_vaccinations_per_hundred-0%\n",
      "daily_vaccinations_per_million-0%\n"
     ]
    }
   ],
   "source": [
    "for col in df.columns:                                          #getting percentage of missing values in columns\n",
    "    pct_missing = np.mean(df[col].isnull())\n",
    "    print('{}-{}%'.format(col, round(pct_missing*100)))"
   ]
  },
  {
   "cell_type": "code",
   "execution_count": 49,
   "metadata": {},
   "outputs": [
    {
     "data": {
      "text/plain": [
       "location                                  object\n",
       "iso_code                                  object\n",
       "date                                      object\n",
       "total_vaccinations                       float64\n",
       "daily_vaccinations                       float64\n",
       "total_vaccinations_per_hundred           float64\n",
       "daily_vaccinations_per_million           float64\n",
       "new_date                          datetime64[ns]\n",
       "dtype: object"
      ]
     },
     "execution_count": 49,
     "metadata": {},
     "output_type": "execute_result"
    }
   ],
   "source": [
    "df.dtypes"
   ]
  },
  {
   "cell_type": "code",
   "execution_count": 52,
   "metadata": {},
   "outputs": [],
   "source": [
    "#df['new_date'] = [d.date() for d in df['date']]\n",
    "df[\"new_date\"]= pd.to_datetime(df[\"date\"], errors='coerce')\n",
    "df['Month'] = df.new_date.dt.month\n",
    "df['day'] = df.new_date.dt.day\n",
    "df['Year'] = df.new_date.dt.year\n",
    "df['Day Name']=pd.to_datetime(df['new_date']).dt.day_name()\n",
    "df['Month Name']=pd.to_datetime(df['new_date']).dt.month_name()\n",
    "df = df.drop(['date'], axis=1)\n"
   ]
  },
  {
   "cell_type": "code",
   "execution_count": 58,
   "metadata": {},
   "outputs": [],
   "source": [
    "df['total_vaccinations'] = df['total_vaccinations'].astype(int) \n",
    "df['daily_vaccinations'] = df['daily_vaccinations'].astype(int) "
   ]
  },
  {
   "cell_type": "code",
   "execution_count": null,
   "metadata": {},
   "outputs": [],
   "source": [
    "#outliers\n",
    "bl = df[ (df['balance'] >= 17500)].index  # considering values below 40000 as an outlier \n",
    "df.drop(bl , inplace=True)\n",
    "\n",
    "df.boxplot(column=['balance']) \n",
    "df[\"balance\"].describe() "
   ]
  },
  {
   "cell_type": "code",
   "execution_count": 63,
   "metadata": {},
   "outputs": [
    {
     "data": {
      "text/plain": [
       "OWID_HIC    172\n",
       "OWID_EUR    172\n",
       "NOR         172\n",
       "OWID_WRL    172\n",
       "OWID_NAM    160\n",
       "CAN         160\n",
       "OWID_SCT    158\n",
       "OWID_ASI    156\n",
       "ISR         155\n",
       "OWID_UMC    150\n",
       "OWID_SAM    150\n",
       "CHL         149\n",
       "LIE         148\n",
       "PRT         147\n",
       "SVN         147\n",
       "LTU         147\n",
       "ITA         147\n",
       "OWID_EUN    147\n",
       "CZE         147\n",
       "DNK         147\n",
       "ROU         147\n",
       "AUT         147\n",
       "EST         147\n",
       "FRA         146\n",
       "DEU         145\n",
       "BEL         145\n",
       "OWID_ENG    143\n",
       "LVA         141\n",
       "USA         140\n",
       "BGR         140\n",
       "SVK         139\n",
       "HUN         137\n",
       "MEX         136\n",
       "ARE         134\n",
       "GBR         133\n",
       "OWID_WLS    131\n",
       "OWID_NIR    131\n",
       "TUR         129\n",
       "GRC         128\n",
       "OWID_LMC    128\n",
       "OWID_AFR    125\n",
       "MLT         125\n",
       "ARG         125\n",
       "IND         123\n",
       "POL         119\n",
       "BRA         116\n",
       "FIN         115\n",
       "CHE         115\n",
       "MDV         105\n",
       "PER         102\n",
       "GIB         100\n",
       "BHR          99\n",
       "OWID_OCE     99\n",
       "ESP          97\n",
       "AUS          97\n",
       "IRL          96\n",
       "KHM          96\n",
       "SAU          93\n",
       "MAR          93\n",
       "IDN          92\n",
       "ZWE          91\n",
       "SRB          91\n",
       "MAC          91\n",
       "HKG          90\n",
       "LUX          90\n",
       "PAN          90\n",
       "NZL          89\n",
       "IMN          89\n",
       "LKA          87\n",
       "BRB          86\n",
       "LBN          86\n",
       "KOR          86\n",
       "URY          85\n",
       "BOL          84\n",
       "PRY          84\n",
       "OWID_LIC     82\n",
       "COL          82\n",
       "MYS          82\n",
       "HRV          81\n",
       "UKR          79\n",
       "ALB          77\n",
       "CHN          74\n",
       "RUS          73\n",
       "MNE          73\n",
       "GTM          72\n",
       "SEN          70\n",
       "QAT          68\n",
       "CIV          68\n",
       "ZAF          67\n",
       "BGD          66\n",
       "JPN          62\n",
       "AZE          62\n",
       "VNM          61\n",
       "MNG          60\n",
       "ECU          60\n",
       "OMN          59\n",
       "ISL          56\n",
       "THA          56\n",
       "UGA          55\n",
       "TWN          55\n",
       "SYC          55\n",
       "TUN          54\n",
       "MDA          54\n",
       "BTN          54\n",
       "DOM          48\n",
       "SMR          48\n",
       "CUW          47\n",
       "MWI          46\n",
       "PHL          44\n",
       "NGA          43\n",
       "TTO          42\n",
       "SLV          42\n",
       "BLZ          41\n",
       "NAM          41\n",
       "FRO          39\n",
       "GEO          39\n",
       "ABW          38\n",
       "CYM          37\n",
       "MKD          36\n",
       "SUR          33\n",
       "CYP          31\n",
       "PSE          31\n",
       "NPL          30\n",
       "LCA          27\n",
       "GRL          27\n",
       "RWA          26\n",
       "KAZ          26\n",
       "ETH          26\n",
       "ZMB          26\n",
       "CRI          24\n",
       "GIN          24\n",
       "DMA          23\n",
       "SWE          23\n",
       "BMU          21\n",
       "SGP          21\n",
       "NLD          19\n",
       "GRD          19\n",
       "KEN          19\n",
       "AND          19\n",
       "LAO          17\n",
       "PYF          17\n",
       "PAK          16\n",
       "IRN          15\n",
       "JOR          15\n",
       "NCL          14\n",
       "GHA          14\n",
       "ATG          13\n",
       "VCT          13\n",
       "OWID_CYN     13\n",
       "GGY          12\n",
       "BWA          11\n",
       "UZB          11\n",
       "AGO          11\n",
       "SLE          11\n",
       "KNA          11\n",
       "KWT          10\n",
       "GAB          10\n",
       "GUY          10\n",
       "JEY           9\n",
       "MCO           9\n",
       "BHS           9\n",
       "JAM           9\n",
       "AIA           9\n",
       "WLF           8\n",
       "IRQ           8\n",
       "GMB           8\n",
       "HND           8\n",
       "GNQ           8\n",
       "SWZ           8\n",
       "BLR           7\n",
       "OWID_KOS      7\n",
       "PNG           6\n",
       "MMR           6\n",
       "AFG           6\n",
       "SLB           6\n",
       "MRT           6\n",
       "KGZ           6\n",
       "MSR           6\n",
       "EGY           6\n",
       "VEN           6\n",
       "BRN           5\n",
       "SHN           5\n",
       "TGO           5\n",
       "MLI           5\n",
       "CMR           5\n",
       "FLK           5\n",
       "FJI           5\n",
       "SDN           5\n",
       "NRU           4\n",
       "TON           4\n",
       "MOZ           4\n",
       "NER           4\n",
       "CPV           4\n",
       "COD           4\n",
       "MUS           4\n",
       "NIC           4\n",
       "SSD           4\n",
       "STP           3\n",
       "TCA           3\n",
       "BIH           3\n",
       "LSO           3\n",
       "COM           3\n",
       "MDG           2\n",
       "TLS           2\n",
       "DZA           2\n",
       "CUB           2\n",
       "WSM           2\n",
       "SXM           2\n",
       "COG           2\n",
       "SOM           2\n",
       "ARM           2\n",
       "LBR           1\n",
       "SYR           1\n",
       "DJI           1\n",
       "BEN           1\n",
       "LBY           1\n",
       "TJK           1\n",
       "Name: iso_code, dtype: int64"
      ]
     },
     "execution_count": 63,
     "metadata": {},
     "output_type": "execute_result"
    }
   ],
   "source": [
    "pd.set_option('display.max_rows', None) \n",
    "df['iso_code'].value_counts()"
   ]
  },
  {
   "cell_type": "code",
   "execution_count": 67,
   "metadata": {},
   "outputs": [
    {
     "data": {
      "text/plain": [
       "count    12884.000000\n",
       "mean        17.863963\n",
       "std         25.172462\n",
       "min          0.000000\n",
       "25%          1.607500\n",
       "50%          7.570000\n",
       "75%         23.792500\n",
       "max        226.140000\n",
       "Name: total_vaccinations_per_hundred, dtype: float64"
      ]
     },
     "execution_count": 67,
     "metadata": {},
     "output_type": "execute_result"
    },
    {
     "data": {
      "image/png": "[encoded data removed]",
      "text/plain": [
       "<Figure size 432x288 with 1 Axes>"
      ]
     },
     "metadata": {
      "needs_background": "light"
     },
     "output_type": "display_data"
    }
   ],
   "source": [
    "\n",
    "\n",
    "df.boxplot(column=['total_vaccinations_per_hundred']) \n",
    "df[\"total_vaccinations_per_hundred\"].describe() "
   ]
  },
  {
   "cell_type": "code",
   "execution_count": 68,
   "metadata": {},
   "outputs": [],
   "source": [
    "df.to_csv('vacc.csv',index=False)"
   ]
  },
  {
   "cell_type": "code",
   "execution_count": 25,
   "metadata": {},
   "outputs": [
    {
     "data": {
      "text/plain": [
       "0.0           129\n",
       "7.0            26\n",
       "2.0            14\n",
       "8649.0         10\n",
       "1.0             9\n",
       "             ... \n",
       "54587.0         1\n",
       "95016900.0      1\n",
       "4148923.0       1\n",
       "9779909.0       1\n",
       "423092.0        1\n",
       "Name: total_vaccinations, Length: 12614, dtype: int64"
      ]
     },
     "execution_count": 25,
     "metadata": {},
     "output_type": "execute_result"
    }
   ],
   "source": [
    "df['total_vaccinations'].value_counts()"
   ]
  },
  {
   "cell_type": "code",
   "execution_count": null,
   "metadata": {},
   "outputs": [],
   "source": []
  }
 ],
 "metadata": {
  "kernelspec": {
   "display_name": "Python 3",
   "language": "python",
   "name": "python3"
  },
  "language_info": {
   "codemirror_mode": {
    "name": "ipython",
    "version": 3
   },
   "file_extension": ".py",
   "mimetype": "text/x-python",
   "name": "python",
   "nbconvert_exporter": "python",
   "pygments_lexer": "ipython3",
   "version": "3.8.5"
  }
 },
 "nbformat": 4,
 "nbformat_minor": 4
}
